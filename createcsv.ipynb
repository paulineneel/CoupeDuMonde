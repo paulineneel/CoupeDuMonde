{
 "cells": [
  {
   "cell_type": "code",
   "execution_count": 8,
   "metadata": {},
   "outputs": [],
   "source": [
    "import csv\n",
    "from faker import Faker\n",
    "\n",
    "# Initialiser un objet Faker\n",
    "fake = Faker('fr_FR')\n",
    "\n",
    "# Ouvrir un fichier en mode écriture pour écrire les données\n",
    "with open('output.csv', 'w', newline='') as csvfile:\n",
    "    fieldnames = ['nom', 'adresse', 'pays', 'ville', 'hommeOufemme']\n",
    "    writer = csv.DictWriter(csvfile, fieldnames=fieldnames)\n",
    "    writer.writeheader()\n",
    "\n",
    "    # Générer des données aléatoires et les écrire dans le fichier CSV\n",
    "    for i in range(10): # changez la valeur 10 pour le nombre de ligne voulue\n",
    "        writer.writerow({\n",
    "            'nom': fake.name(),\n",
    "            'adresse': fake.street_name(),\n",
    "            'pays': fake.country(),\n",
    "            'ville': fake.city(),\n",
    "            'hommeOufemme': fake.random_element(elements=(\"H\", \"F\"))\n",
    "        })\n"
   ]
  }
 ],
 "metadata": {
  "kernelspec": {
   "display_name": "Python 3",
   "language": "python",
   "name": "python3"
  },
  "language_info": {
   "codemirror_mode": {
    "name": "ipython",
    "version": 3
   },
   "file_extension": ".py",
   "mimetype": "text/x-python",
   "name": "python",
   "nbconvert_exporter": "python",
   "pygments_lexer": "ipython3",
   "version": "3.8.10"
  },
  "orig_nbformat": 4,
  "vscode": {
   "interpreter": {
    "hash": "31f2aee4e71d21fbe5cf8b01ff0e069b9275f58929596ceb00d14d90e3e16cd6"
   }
  }
 },
 "nbformat": 4,
 "nbformat_minor": 2
}
