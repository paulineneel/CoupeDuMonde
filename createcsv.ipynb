{
 "cells": [
  {
   "cell_type": "code",
   "execution_count": 101,
   "metadata": {},
   "outputs": [],
   "source": [
    "import csv\n",
    "from faker import Faker\n",
    "import requests\n",
    "import random\n",
    "\n",
    "\n",
    "# Initialiser un objet Faker avec un seed pour la france\n",
    "fake = Faker('fr_FR')\n",
    "\n",
    "# Récupération de la liste des pays à partir de l'API RESTcountries\n",
    "#on ne peut pas utiliser faker pour pays/ville car il n'accorde pas le pays à la bonne ville\n",
    "url = \"https://restcountries.com/v2/all\"\n",
    "response = requests.get(url)\n",
    "data = response.json()\n",
    "\n",
    "# Ouvrir un fichier en mode écriture pour écrire les données\n",
    "with open('output.csv', 'w', newline='') as csvfile:\n",
    "    \n",
    "    #on remplit l'entête\n",
    "    fieldnames = ['nom', 'adresse', 'pays', 'ville', 'hommeOufemme']\n",
    "    writer = csv.DictWriter(csvfile, fieldnames=fieldnames)\n",
    "    writer.writeheader()\n",
    "\n",
    "    #on génère 100 coiffeurs, on réalité le code s'arrête souvent avant à cause d'un pb de la fonction 'random_country[\"capital\"]\n",
    "    for i in range(100): # changez la valeur pour le nombre de ligne voulue\n",
    "\n",
    "        # Sélection aléatoire d'un pays et de sa capitale\n",
    "        random_country = random.choice(data)\n",
    "        country_name = random_country[\"name\"]\n",
    "        capital_name = random_country[\"capital\"]\n",
    "\n",
    "       \n",
    "        writer.writerow({\n",
    "            'nom': fake.name(),\n",
    "            'adresse': fake.street_name(),\n",
    "            'pays': country_name,\n",
    "            'ville': capital_name,\n",
    "            'hommeOufemme': fake.random_element(elements=(\"H\", \"F\"))\n",
    "        })\n"
   ]
  },
  {
   "cell_type": "code",
   "execution_count": 1,
   "metadata": {},
   "outputs": [
    {
     "ename": "NameError",
     "evalue": "name 'csv' is not defined",
     "output_type": "error",
     "traceback": [
      "\u001b[0;31m---------------------------------------------------------------------------\u001b[0m",
      "\u001b[0;31mNameError\u001b[0m                                 Traceback (most recent call last)",
      "Cell \u001b[0;32mIn [1], line 7\u001b[0m\n\u001b[1;32m      4\u001b[0m \u001b[39m# Ouverture du fichier CSV en mode lecture\u001b[39;00m\n\u001b[1;32m      5\u001b[0m \u001b[39mwith\u001b[39;00m \u001b[39mopen\u001b[39m(\u001b[39m'\u001b[39m\u001b[39mliste_coiffeurs.csv\u001b[39m\u001b[39m'\u001b[39m, mode\u001b[39m=\u001b[39m\u001b[39m'\u001b[39m\u001b[39mr\u001b[39m\u001b[39m'\u001b[39m) \u001b[39mas\u001b[39;00m file:\n\u001b[1;32m      6\u001b[0m     \u001b[39m#on lit le csv et on indique que les colonnes sont séparées par un ;\u001b[39;00m\n\u001b[0;32m----> 7\u001b[0m     reader \u001b[39m=\u001b[39m csv\u001b[39m.\u001b[39mreader(file, delimiter \u001b[39m=\u001b[39m\u001b[39m'\u001b[39m\u001b[39m;\u001b[39m\u001b[39m'\u001b[39m )\n\u001b[1;32m      8\u001b[0m     \u001b[39m# Récupération des en-têtes de colonne\u001b[39;00m\n\u001b[1;32m      9\u001b[0m     headers \u001b[39m=\u001b[39m \u001b[39mnext\u001b[39m(reader)\n",
      "\u001b[0;31mNameError\u001b[0m: name 'csv' is not defined"
     ]
    }
   ],
   "source": [
    "#on choisit 7 coupes unisexes\n",
    "coupes =list( [\"carré\", \"wolfcut\",\"pixie cut\",\"pointes\",\"dégradé\",\"layers\",\"mulet\"]) \n",
    "\n",
    "# Ouverture du fichier CSV en mode lecture\n",
    "with open('liste_coiffeurs.csv', mode='r') as file:\n",
    "    #on lit le csv et on indique que les colonnes sont séparées par un ;\n",
    "    reader = csv.reader(file, delimiter =';' )\n",
    "    # Récupération des en-têtes de colonne\n",
    "    headers = next(reader)\n",
    "    # Récupération de l'index de la colonne \"nom\"\n",
    "    name_index = headers.index('nom')\n",
    "    #on ouvre le csv dans lequel on veut écrire\n",
    "    with open('liste_coupes_de_cheveux.csv', mode='w') as new_file:\n",
    "        #on lui crée une entête\n",
    "        fieldnames = ['coiffeur','longueur','forme','hommeOufemme','tarif']\n",
    "        writer = csv.DictWriter(new_file, fieldnames=fieldnames, delimiter=';')\n",
    "        writer.writeheader()\n",
    "\n",
    "        # Lecture des données ligne par ligne\n",
    "        for row in reader:\n",
    "            # Récupération de la valeur de la colonne \"nom\" pour chaque ligne\n",
    "            name = row[name_index]\n",
    "            \n",
    "            #on recupère le genre des coupes du coiffeur\n",
    "            genre = row[headers.index('hommeOufemme')]\n",
    "            \n",
    "\n",
    "            #pour chaque coiffeur, on lui affecte les 7 coupes\n",
    "            for i in range(7) :\n",
    "                name = row[name_index]\n",
    "                writer.writerow({\n",
    "                    'coiffeur': name,\n",
    "                    'longueur': fake.random_element(elements=(\"court\", \"mi-long\",\"long\")),\n",
    "                    'forme': coupes[i],\n",
    "                    'hommeOufemme': genre,\n",
    "                    'tarif': random.randint(15, 150),\n",
    "                })\n",
    "                \n",
    "##attention les données sont séparées par des virugules, il faut chnager par des ; avec 'change all occruences'"
   ]
  }
 ],
 "metadata": {
  "kernelspec": {
   "display_name": "Python 3",
   "language": "python",
   "name": "python3"
  },
  "language_info": {
   "codemirror_mode": {
    "name": "ipython",
    "version": 3
   },
   "file_extension": ".py",
   "mimetype": "text/x-python",
   "name": "python",
   "nbconvert_exporter": "python",
   "pygments_lexer": "ipython3",
   "version": "3.8.10"
  },
  "orig_nbformat": 4,
  "vscode": {
   "interpreter": {
    "hash": "31f2aee4e71d21fbe5cf8b01ff0e069b9275f58929596ceb00d14d90e3e16cd6"
   }
  }
 },
 "nbformat": 4,
 "nbformat_minor": 2
}
